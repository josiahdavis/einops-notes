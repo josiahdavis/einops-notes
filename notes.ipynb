{
 "cells": [
  {
   "cell_type": "markdown",
   "id": "217a4041",
   "metadata": {},
   "source": [
    "## Agenda\n",
    "\n",
    "* The rearrange operator\n",
    "   * Transposition of axes\n",
    "   * Composition and Decomposition of axes\n",
    "   * Add or remove axes\n",
    "* The reduce operator\n",
    "* The repeat operator\n",
    "* torch.einsum for matrix multiplication.\n",
    "* Layers vs. operations to build models.\n",
    "\n",
    "## The Rearrange Operator\n"
   ]
  },
  {
   "cell_type": "code",
   "execution_count": 1,
   "id": "247f89f0",
   "metadata": {},
   "outputs": [
    {
     "name": "stderr",
     "output_type": "stream",
     "text": [
      "/Users/josiahdavis/miniconda3/envs/perceiver/lib/python3.12/site-packages/torch/_subclasses/functional_tensor.py:276: UserWarning: Failed to initialize NumPy: No module named 'numpy' (Triggered internally at /Users/runner/work/pytorch/pytorch/pytorch/torch/csrc/utils/tensor_numpy.cpp:81.)\n",
      "  cpu = _conversion_method_template(device=torch.device(\"cpu\"))\n"
     ]
    },
    {
     "data": {
      "text/plain": [
       "torch.Size([2, 4, 3, 5])"
      ]
     },
     "execution_count": 1,
     "metadata": {},
     "output_type": "execute_result"
    }
   ],
   "source": [
    "import torch\n",
    "from einops import rearrange\n",
    "\n",
    "# Transpose the last and the second axes\n",
    "x = torch.randn((2, 3, 4, 5))\n",
    "x = rearrange(x, 'b t h d -> b h t d')\n",
    "x.shape"
   ]
  },
  {
   "cell_type": "code",
   "execution_count": 2,
   "id": "00ad960e",
   "metadata": {},
   "outputs": [
    {
     "data": {
      "text/plain": [
       "torch.Size([2, 3, 20])"
      ]
     },
     "execution_count": 2,
     "metadata": {},
     "output_type": "execute_result"
    }
   ],
   "source": [
    "# Compose the h and d dimension into a new dimension\n",
    "# i.e., Collapse the last two dimensions together\n",
    "\n",
    "x = torch.randn((2, 3, 4, 5))\n",
    "x = rearrange(x, 'b t h d -> b t (h d)')\n",
    "x.shape"
   ]
  },
  {
   "cell_type": "code",
   "execution_count": 3,
   "id": "b70438b2",
   "metadata": {},
   "outputs": [
    {
     "data": {
      "text/plain": [
       "torch.Size([2, 50176, 64])"
      ]
     },
     "execution_count": 3,
     "metadata": {},
     "output_type": "execute_result"
    }
   ],
   "source": [
    "# Composition with the ellipses operator\n",
    "x = torch.randn((2, 224, 224, 64))\n",
    "x = rearrange(x, 'b ... d -> b (...) d')\n",
    "x.shape"
   ]
  },
  {
   "cell_type": "code",
   "execution_count": 4,
   "id": "06c4d640",
   "metadata": {},
   "outputs": [
    {
     "data": {
      "text/plain": [
       "torch.Size([2, 3, 4, 5])"
      ]
     },
     "execution_count": 4,
     "metadata": {},
     "output_type": "execute_result"
    }
   ],
   "source": [
    "# Decompose is the inverse process\n",
    "# i.e., Split out a single axis into multiple new axes\n",
    "x = torch.randn((2, 3, 20))\n",
    "x = rearrange(x, 'b t (h d) -> b t h d', h = 4, d = 5)\n",
    "x.shape"
   ]
  },
  {
   "cell_type": "code",
   "execution_count": 5,
   "id": "80c169f0",
   "metadata": {},
   "outputs": [
    {
     "data": {
      "text/plain": [
       "torch.Size([1, 2, 3, 4])"
      ]
     },
     "execution_count": 5,
     "metadata": {},
     "output_type": "execute_result"
    }
   ],
   "source": [
    "# Addition of axes\n",
    "# i.e., like torch.unsqueeze\n",
    "\n",
    "x = torch.randn((2, 3, 4))\n",
    "x = rearrange(x, 'b t d -> 1 b t d')\n",
    "x.shape"
   ]
  },
  {
   "cell_type": "code",
   "execution_count": 6,
   "id": "4910ab0d",
   "metadata": {},
   "outputs": [
    {
     "data": {
      "text/plain": [
       "torch.Size([2, 3, 4])"
      ]
     },
     "execution_count": 6,
     "metadata": {},
     "output_type": "execute_result"
    }
   ],
   "source": [
    "# Removal of axes\n",
    "# i.e., like torch.squeeze\n",
    "\n",
    "x = torch.randn((1, 2, 3, 4))\n",
    "x = rearrange(x, '1 b t d -> b t d')\n",
    "x.shape"
   ]
  },
  {
   "cell_type": "markdown",
   "id": "37c0b359",
   "metadata": {},
   "source": [
    "## The Reduce Operator\n",
    "\n",
    "Love this one."
   ]
  },
  {
   "cell_type": "code",
   "execution_count": 7,
   "id": "12bcbe16",
   "metadata": {},
   "outputs": [
    {
     "data": {
      "text/plain": [
       "torch.Size([2, 3])"
      ]
     },
     "execution_count": 7,
     "metadata": {},
     "output_type": "execute_result"
    }
   ],
   "source": [
    "from einops import reduce\n",
    "\n",
    "x = torch.randn((2, 3, 4))\n",
    "x = reduce(x, 'b t d -> b t', 'mean') # also supports max, min, std, sum and prod\n",
    "x.shape"
   ]
  },
  {
   "cell_type": "markdown",
   "id": "a8fad799",
   "metadata": {},
   "source": [
    "## The Repeat Operator"
   ]
  },
  {
   "cell_type": "code",
   "execution_count": 8,
   "id": "fb429491",
   "metadata": {},
   "outputs": [
    {
     "data": {
      "text/plain": [
       "torch.Size([5, 2, 3])"
      ]
     },
     "execution_count": 8,
     "metadata": {},
     "output_type": "execute_result"
    }
   ],
   "source": [
    "from einops import repeat\n",
    "\n",
    "# Repeat along a single dimension\n",
    "x = torch.randn((2, 3))\n",
    "x = repeat(x, 't d -> b t d', b = 5)\n",
    "x.shape"
   ]
  },
  {
   "cell_type": "code",
   "execution_count": 9,
   "id": "2054c164",
   "metadata": {},
   "outputs": [
    {
     "data": {
      "text/plain": [
       "torch.Size([5, 4, 2, 3])"
      ]
     },
     "execution_count": 9,
     "metadata": {},
     "output_type": "execute_result"
    }
   ],
   "source": [
    "# Repeat along multiple dimensions\n",
    "x = torch.randn((2, 3))\n",
    "x = repeat(x, 't d -> b h t d', b = 5, h = 4)\n",
    "x.shape"
   ]
  },
  {
   "cell_type": "code",
   "execution_count": 10,
   "id": "40a03974",
   "metadata": {},
   "outputs": [
    {
     "data": {
      "text/plain": [
       "torch.Size([10, 2, 3, 4, 5])"
      ]
     },
     "execution_count": 10,
     "metadata": {},
     "output_type": "execute_result"
    }
   ],
   "source": [
    "# Using the ellipses format to avoid specifying existing dimensions, only the number of repeats!\n",
    "x = torch.randn((2, 3, 4, 5))\n",
    "x = repeat(x, '... -> b ...', b = 10)\n",
    "x.shape"
   ]
  },
  {
   "cell_type": "markdown",
   "id": "202dfa12",
   "metadata": {},
   "source": [
    "## `torch.einsum` for Matrix Multiplication"
   ]
  },
  {
   "cell_type": "code",
   "execution_count": 11,
   "id": "0401e99d",
   "metadata": {},
   "outputs": [
    {
     "data": {
      "text/plain": [
       "torch.Size([3, 5])"
      ]
     },
     "execution_count": 11,
     "metadata": {},
     "output_type": "execute_result"
    }
   ],
   "source": [
    "from torch import einsum\n",
    "\n",
    "# Standard format with 2D\n",
    "a = torch.rand((3, 4))\n",
    "b = torch.rand((4, 5))\n",
    "\n",
    "c = einsum('i j, j d -> i d', a, b)\n",
    "c.shape"
   ]
  },
  {
   "cell_type": "code",
   "execution_count": 12,
   "id": "d10b79b8",
   "metadata": {},
   "outputs": [
    {
     "data": {
      "text/plain": [
       "torch.Size([2, 3, 5])"
      ]
     },
     "execution_count": 12,
     "metadata": {},
     "output_type": "execute_result"
    }
   ],
   "source": [
    "# Standard format with 3D\n",
    "q = torch.rand((2, 3, 4))\n",
    "kt = torch.rand((2, 4, 5))\n",
    "\n",
    "sim = einsum('b i j, b j d -> b i d', q, kt)\n",
    "sim.shape"
   ]
  },
  {
   "cell_type": "code",
   "execution_count": 13,
   "id": "aacc400f",
   "metadata": {},
   "outputs": [
    {
     "data": {
      "text/plain": [
       "torch.Size([2, 3, 5])"
      ]
     },
     "execution_count": 13,
     "metadata": {},
     "output_type": "execute_result"
    }
   ],
   "source": [
    "# But you don't even need to do the transposition of axis\n",
    "# It knows what you needed and does it for you\n",
    "\n",
    "q = torch.rand((2, 3, 4))\n",
    "k = torch.rand((2, 5, 4))\n",
    "\n",
    "sim = einsum('b i j, b d j -> b i d', q, k)\n",
    "sim.shape"
   ]
  },
  {
   "cell_type": "code",
   "execution_count": 14,
   "id": "b54e7e0e",
   "metadata": {},
   "outputs": [
    {
     "data": {
      "text/plain": [
       "True"
      ]
     },
     "execution_count": 14,
     "metadata": {},
     "output_type": "execute_result"
    }
   ],
   "source": [
    "# Just to sanity check\n",
    "torch.allclose(q @ k.transpose(-1, -2), sim)"
   ]
  },
  {
   "cell_type": "markdown",
   "id": "5ddd5f0f",
   "metadata": {},
   "source": [
    "## Layers vs. Operations to Build Models\n",
    "\n",
    "Sometimes it is more convenient to use layers not operations to build models. This can be a huge space-saver."
   ]
  },
  {
   "cell_type": "code",
   "execution_count": 15,
   "id": "7ee968f2",
   "metadata": {},
   "outputs": [
    {
     "data": {
      "text/plain": [
       "torch.Size([2, 10])"
      ]
     },
     "execution_count": 15,
     "metadata": {},
     "output_type": "execute_result"
    }
   ],
   "source": [
    "import torch.nn as nn\n",
    "from einops.layers.torch import Reduce\n",
    "\n",
    "model = nn.Sequential(\n",
    "    Reduce('b n d -> b d', 'mean'),\n",
    "    nn.Linear(12, 14),\n",
    "    nn.ReLU(),\n",
    "    nn.Linear(14, 10),\n",
    ")\n",
    "\n",
    "model(torch.randn((2, 3, 12))).shape"
   ]
  }
 ],
 "metadata": {
  "kernelspec": {
   "display_name": "perceiver",
   "language": "python",
   "name": "python3"
  },
  "language_info": {
   "codemirror_mode": {
    "name": "ipython",
    "version": 3
   },
   "file_extension": ".py",
   "mimetype": "text/x-python",
   "name": "python",
   "nbconvert_exporter": "python",
   "pygments_lexer": "ipython3",
   "version": "3.12.11"
  }
 },
 "nbformat": 4,
 "nbformat_minor": 5
}
